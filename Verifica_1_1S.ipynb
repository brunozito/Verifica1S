{
  "nbformat": 4,
  "nbformat_minor": 0,
  "metadata": {
    "colab": {
      "provenance": [],
      "authorship_tag": "ABX9TyOPrHYhR6D3qHv5Wa7679qu",
      "include_colab_link": true
    },
    "kernelspec": {
      "name": "python3",
      "display_name": "Python 3"
    },
    "language_info": {
      "name": "python"
    }
  },
  "cells": [
    {
      "cell_type": "markdown",
      "metadata": {
        "id": "view-in-github",
        "colab_type": "text"
      },
      "source": [
        "<a href=\"https://colab.research.google.com/github/brunozito/Verifica1S/blob/main/Verifica_1_1S.ipynb\" target=\"_parent\"><img src=\"https://colab.research.google.com/assets/colab-badge.svg\" alt=\"Open In Colab\"/></a>"
      ]
    },
    {
      "cell_type": "markdown",
      "source": [
        "**Testo della Verifica**\n",
        "\n",
        "Scrivere un programma dove l'utente deve indovinare un numero a caso scelto dal computer tra 1 e 30. Il computer dice all'utente se il numero inserito è piu grande o piu piccolo del numero da indovinare. Quando l'utente indovina il programma termina e viene stampato il numero di tentativi effettuati.\n",
        "\n",
        "Suggerimento:  usare un ciclo while per gestire tutti i tentativi, e la funzione randint() della libreria random per generare l numero casuale."
      ],
      "metadata": {
        "id": "iAolSj1hwo4t"
      }
    },
    {
      "cell_type": "code",
      "execution_count": null,
      "metadata": {
        "id": "oLYNxAHGwkVt"
      },
      "outputs": [],
      "source": [
        "from random import randint\n",
        "print(\"Bruno\")\n"
      ]
    }
  ]
}